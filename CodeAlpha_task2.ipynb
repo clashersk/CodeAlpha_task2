{
 "cells": [
  {
   "cell_type": "code",
   "execution_count": null,
   "id": "1296c459",
   "metadata": {},
   "outputs": [
    {
     "name": "stdout",
     "output_type": "stream",
     "text": [
      "\n",
      "1. Add Expense\n",
      "2. View Summary\n",
      "3. Exit\n",
      "Enter your choice: 1\n",
      "Enter expense category: 245\n",
      "Enter expense amount: 123\n",
      "Expense added successfully!\n",
      "\n",
      "1. Add Expense\n",
      "2. View Summary\n",
      "3. Exit\n",
      "Enter your choice: 2\n",
      "Expense Summary:\n",
      "----------------\n",
      "Category\tAmount\n",
      "----------------\n",
      "245\t\t123.0\n",
      "----------------\n",
      "Total Expense:\t123.0\n",
      "\n",
      "1. Add Expense\n",
      "2. View Summary\n",
      "3. Exit\n"
     ]
    }
   ],
   "source": [
    "class ExpenseTracker:\n",
    "    def __init__(self):\n",
    "        # make an empty dictionary to store expenses\n",
    "        self.expenses = {}\n",
    "\n",
    "    def add_expense(self, category, amount):\n",
    "        # Function to add an expense to the tracker\n",
    "        if category in self.expenses:\n",
    "            # If the category already exists, add the amount to it\n",
    "            self.expenses[category] += amount\n",
    "        else:\n",
    "            # If the category does not exist, create it and set the amount\n",
    "            self.expenses[category] = amount\n",
    "\n",
    "    def get_summary(self):\n",
    "        # Function to print a summary of expenses\n",
    "        total_expense = sum(self.expenses.values())  # Calculate total expense\n",
    "        print(\"Expense Summary:\")\n",
    "        print(\"----------------\")\n",
    "        print(\"Category\\tAmount\")\n",
    "        print(\"----------------\")\n",
    "        for category, amount in self.expenses.items():\n",
    "            # Print each category and its amount\n",
    "            print(f\"{category}\\t\\t{amount}\")\n",
    "        print(\"----------------\")\n",
    "        print(f\"Total Expense:\\t{total_expense}\") \n",
    "\n",
    "def main():\n",
    "    tracker = ExpenseTracker()\n",
    "    # Initialize an ExpenseTracker object\n",
    "\n",
    "    while True:\n",
    "        print(\"\\n1. Add Expense\")\n",
    "        print(\"2. View Summary\")5\n",
    "        print(\"3. Exit\")\n",
    "        choice = input(\"Enter your choice: \")\n",
    "\n",
    "        if choice == \"1\":\n",
    "            #to add an expense\n",
    "            category = input(\"Enter expense category: \")\n",
    "            amount = float(input(\"Enter expense amount: \"))\n",
    "            tracker.add_expense(category, amount)\n",
    "            print(\"Expense added successfully!\")\n",
    "        elif choice == \"2\":\n",
    "            #to view summary\n",
    "            tracker.get_summary()\n",
    "        elif choice == \"3\":\n",
    "            #if we want to exit\n",
    "            print(\"Exiting...\")\n",
    "            break\n",
    "        else:\n",
    "            # If we enters an invalid choice\n",
    "            print(\"Invalid choice. Please select valid choice.\")\n",
    "\n",
    "if __name__ == \"__main__\":\n",
    "    main()\n"
   ]
  },
  {
   "cell_type": "code",
   "execution_count": null,
   "id": "406a6de6",
   "metadata": {},
   "outputs": [],
   "source": []
  }
 ],
 "metadata": {
  "kernelspec": {
   "display_name": "Python 3 (ipykernel)",
   "language": "python",
   "name": "python3"
  },
  "language_info": {
   "codemirror_mode": {
    "name": "ipython",
    "version": 3
   },
   "file_extension": ".py",
   "mimetype": "text/x-python",
   "name": "python",
   "nbconvert_exporter": "python",
   "pygments_lexer": "ipython3",
   "version": "3.10.9"
  }
 },
 "nbformat": 4,
 "nbformat_minor": 5
}
